{
 "cells": [
  {
   "cell_type": "code",
   "execution_count": null,
   "id": "-JfmA63trtrH",
   "metadata": {
    "id": "-JfmA63trtrH"
   },
   "outputs": [],
   "source": [
    "import numpy as np\n",
    "import matplotlib.pyplot as plt\n",
    "from keras.utils import np_utils\n",
    "import pprint \n",
    "import sklearn\n",
    "from tensorflow.keras.datasets import fashion_mnist\n",
    "import tensorflow as tf\n",
    "import pandas as pd\n",
    "from tensorflow.keras.models import Sequential\n",
    "from keras.layers import Dense\n",
    "from sklearn.model_selection import train_test_split\n",
    "from keras.layers import Conv2D, MaxPooling2D, Flatten, Dropout\n",
    "from sklearn.metrics import confusion_matrix\n",
    "import seaborn as sns"
   ]
  },
  {
   "cell_type": "code",
   "execution_count": 10,
   "id": "C4orZQXos3mR",
   "metadata": {
    "colab": {
     "base_uri": "https://localhost:8080/",
     "height": 77,
     "resources": {
      "http://localhost:8080/nbextensions/google.colab/files.js": {
       "data": "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",
       "headers": [
        [
         "content-type",
         "application/javascript"
        ]
       ],
       "ok": true,
       "status": 200,
       "status_text": ""
      }
     }
    },
    "id": "C4orZQXos3mR",
    "outputId": "ac288c55-788e-494d-b3d9-a052480ad222"
   },
   "outputs": [
    {
     "data": {
      "text/html": [
       "\n",
       "     <input type=\"file\" id=\"files-de4fb3c1-b735-491b-88c7-22c2ce181d9b\" name=\"files[]\" multiple disabled\n",
       "        style=\"border:none\" />\n",
       "     <output id=\"result-de4fb3c1-b735-491b-88c7-22c2ce181d9b\">\n",
       "      Upload widget is only available when the cell has been executed in the\n",
       "      current browser session. Please rerun this cell to enable.\n",
       "      </output>\n",
       "      <script src=\"/nbextensions/google.colab/files.js\"></script> "
      ],
      "text/plain": [
       "<IPython.core.display.HTML object>"
      ]
     },
     "metadata": {},
     "output_type": "display_data"
    },
    {
     "name": "stdout",
     "output_type": "stream",
     "text": [
      "Saving cleaned_data.csv to cleaned_data.csv\n"
     ]
    }
   ],
   "source": [
    "from google.colab import files\n",
    "uploaded = files.upload()"
   ]
  },
  {
   "cell_type": "code",
   "execution_count": 55,
   "id": "f83b9ede",
   "metadata": {
    "colab": {
     "base_uri": "https://localhost:8080/",
     "height": 300
    },
    "id": "f83b9ede",
    "outputId": "c45aa220-08c3-4d28-b2a7-370872fda88a"
   },
   "outputs": [
    {
     "data": {
      "text/html": [
       "\n",
       "  <div id=\"df-37e76ab5-bf3f-4201-9a08-7fc9c00eb25e\">\n",
       "    <div class=\"colab-df-container\">\n",
       "      <div>\n",
       "<style scoped>\n",
       "    .dataframe tbody tr th:only-of-type {\n",
       "        vertical-align: middle;\n",
       "    }\n",
       "\n",
       "    .dataframe tbody tr th {\n",
       "        vertical-align: top;\n",
       "    }\n",
       "\n",
       "    .dataframe thead th {\n",
       "        text-align: right;\n",
       "    }\n",
       "</style>\n",
       "<table border=\"1\" class=\"dataframe\">\n",
       "  <thead>\n",
       "    <tr style=\"text-align: right;\">\n",
       "      <th></th>\n",
       "      <th>ID</th>\n",
       "      <th>Education</th>\n",
       "      <th>Marital_Status</th>\n",
       "      <th>Income</th>\n",
       "      <th>Kidhome</th>\n",
       "      <th>Teenhome</th>\n",
       "      <th>Recency</th>\n",
       "      <th>MntWines</th>\n",
       "      <th>MntFruits</th>\n",
       "      <th>MntMeatProducts</th>\n",
       "      <th>...</th>\n",
       "      <th>AcceptedCmp2</th>\n",
       "      <th>Complain</th>\n",
       "      <th>Response</th>\n",
       "      <th>Age</th>\n",
       "      <th>IfSingle</th>\n",
       "      <th>EnrollDays</th>\n",
       "      <th>Expenses</th>\n",
       "      <th>NumPurchases</th>\n",
       "      <th>NumAcceptedCmp</th>\n",
       "      <th>AcceptedAnyCmp</th>\n",
       "    </tr>\n",
       "  </thead>\n",
       "  <tbody>\n",
       "    <tr>\n",
       "      <th>0</th>\n",
       "      <td>5524</td>\n",
       "      <td>1</td>\n",
       "      <td>Single</td>\n",
       "      <td>58138.0</td>\n",
       "      <td>0</td>\n",
       "      <td>0</td>\n",
       "      <td>58</td>\n",
       "      <td>635</td>\n",
       "      <td>88</td>\n",
       "      <td>546</td>\n",
       "      <td>...</td>\n",
       "      <td>0</td>\n",
       "      <td>0</td>\n",
       "      <td>1</td>\n",
       "      <td>57</td>\n",
       "      <td>1</td>\n",
       "      <td>971</td>\n",
       "      <td>1617</td>\n",
       "      <td>22</td>\n",
       "      <td>1</td>\n",
       "      <td>Yes</td>\n",
       "    </tr>\n",
       "    <tr>\n",
       "      <th>1</th>\n",
       "      <td>2174</td>\n",
       "      <td>1</td>\n",
       "      <td>Single</td>\n",
       "      <td>46344.0</td>\n",
       "      <td>1</td>\n",
       "      <td>1</td>\n",
       "      <td>38</td>\n",
       "      <td>11</td>\n",
       "      <td>1</td>\n",
       "      <td>6</td>\n",
       "      <td>...</td>\n",
       "      <td>0</td>\n",
       "      <td>0</td>\n",
       "      <td>0</td>\n",
       "      <td>60</td>\n",
       "      <td>1</td>\n",
       "      <td>125</td>\n",
       "      <td>27</td>\n",
       "      <td>4</td>\n",
       "      <td>0</td>\n",
       "      <td>No</td>\n",
       "    </tr>\n",
       "    <tr>\n",
       "      <th>2</th>\n",
       "      <td>4141</td>\n",
       "      <td>1</td>\n",
       "      <td>Together</td>\n",
       "      <td>71613.0</td>\n",
       "      <td>0</td>\n",
       "      <td>0</td>\n",
       "      <td>26</td>\n",
       "      <td>426</td>\n",
       "      <td>49</td>\n",
       "      <td>127</td>\n",
       "      <td>...</td>\n",
       "      <td>0</td>\n",
       "      <td>0</td>\n",
       "      <td>0</td>\n",
       "      <td>49</td>\n",
       "      <td>0</td>\n",
       "      <td>472</td>\n",
       "      <td>776</td>\n",
       "      <td>20</td>\n",
       "      <td>0</td>\n",
       "      <td>No</td>\n",
       "    </tr>\n",
       "    <tr>\n",
       "      <th>3</th>\n",
       "      <td>6182</td>\n",
       "      <td>1</td>\n",
       "      <td>Together</td>\n",
       "      <td>26646.0</td>\n",
       "      <td>1</td>\n",
       "      <td>0</td>\n",
       "      <td>26</td>\n",
       "      <td>11</td>\n",
       "      <td>4</td>\n",
       "      <td>20</td>\n",
       "      <td>...</td>\n",
       "      <td>0</td>\n",
       "      <td>0</td>\n",
       "      <td>0</td>\n",
       "      <td>30</td>\n",
       "      <td>0</td>\n",
       "      <td>65</td>\n",
       "      <td>53</td>\n",
       "      <td>6</td>\n",
       "      <td>0</td>\n",
       "      <td>No</td>\n",
       "    </tr>\n",
       "    <tr>\n",
       "      <th>4</th>\n",
       "      <td>5324</td>\n",
       "      <td>4</td>\n",
       "      <td>Married</td>\n",
       "      <td>58293.0</td>\n",
       "      <td>1</td>\n",
       "      <td>0</td>\n",
       "      <td>94</td>\n",
       "      <td>173</td>\n",
       "      <td>43</td>\n",
       "      <td>118</td>\n",
       "      <td>...</td>\n",
       "      <td>0</td>\n",
       "      <td>0</td>\n",
       "      <td>0</td>\n",
       "      <td>33</td>\n",
       "      <td>0</td>\n",
       "      <td>321</td>\n",
       "      <td>422</td>\n",
       "      <td>14</td>\n",
       "      <td>0</td>\n",
       "      <td>No</td>\n",
       "    </tr>\n",
       "  </tbody>\n",
       "</table>\n",
       "<p>5 rows × 32 columns</p>\n",
       "</div>\n",
       "      <button class=\"colab-df-convert\" onclick=\"convertToInteractive('df-37e76ab5-bf3f-4201-9a08-7fc9c00eb25e')\"\n",
       "              title=\"Convert this dataframe to an interactive table.\"\n",
       "              style=\"display:none;\">\n",
       "        \n",
       "  <svg xmlns=\"http://www.w3.org/2000/svg\" height=\"24px\"viewBox=\"0 0 24 24\"\n",
       "       width=\"24px\">\n",
       "    <path d=\"M0 0h24v24H0V0z\" fill=\"none\"/>\n",
       "    <path d=\"M18.56 5.44l.94 2.06.94-2.06 2.06-.94-2.06-.94-.94-2.06-.94 2.06-2.06.94zm-11 1L8.5 8.5l.94-2.06 2.06-.94-2.06-.94L8.5 2.5l-.94 2.06-2.06.94zm10 10l.94 2.06.94-2.06 2.06-.94-2.06-.94-.94-2.06-.94 2.06-2.06.94z\"/><path d=\"M17.41 7.96l-1.37-1.37c-.4-.4-.92-.59-1.43-.59-.52 0-1.04.2-1.43.59L10.3 9.45l-7.72 7.72c-.78.78-.78 2.05 0 2.83L4 21.41c.39.39.9.59 1.41.59.51 0 1.02-.2 1.41-.59l7.78-7.78 2.81-2.81c.8-.78.8-2.07 0-2.86zM5.41 20L4 18.59l7.72-7.72 1.47 1.35L5.41 20z\"/>\n",
       "  </svg>\n",
       "      </button>\n",
       "      \n",
       "  <style>\n",
       "    .colab-df-container {\n",
       "      display:flex;\n",
       "      flex-wrap:wrap;\n",
       "      gap: 12px;\n",
       "    }\n",
       "\n",
       "    .colab-df-convert {\n",
       "      background-color: #E8F0FE;\n",
       "      border: none;\n",
       "      border-radius: 50%;\n",
       "      cursor: pointer;\n",
       "      display: none;\n",
       "      fill: #1967D2;\n",
       "      height: 32px;\n",
       "      padding: 0 0 0 0;\n",
       "      width: 32px;\n",
       "    }\n",
       "\n",
       "    .colab-df-convert:hover {\n",
       "      background-color: #E2EBFA;\n",
       "      box-shadow: 0px 1px 2px rgba(60, 64, 67, 0.3), 0px 1px 3px 1px rgba(60, 64, 67, 0.15);\n",
       "      fill: #174EA6;\n",
       "    }\n",
       "\n",
       "    [theme=dark] .colab-df-convert {\n",
       "      background-color: #3B4455;\n",
       "      fill: #D2E3FC;\n",
       "    }\n",
       "\n",
       "    [theme=dark] .colab-df-convert:hover {\n",
       "      background-color: #434B5C;\n",
       "      box-shadow: 0px 1px 3px 1px rgba(0, 0, 0, 0.15);\n",
       "      filter: drop-shadow(0px 1px 2px rgba(0, 0, 0, 0.3));\n",
       "      fill: #FFFFFF;\n",
       "    }\n",
       "  </style>\n",
       "\n",
       "      <script>\n",
       "        const buttonEl =\n",
       "          document.querySelector('#df-37e76ab5-bf3f-4201-9a08-7fc9c00eb25e button.colab-df-convert');\n",
       "        buttonEl.style.display =\n",
       "          google.colab.kernel.accessAllowed ? 'block' : 'none';\n",
       "\n",
       "        async function convertToInteractive(key) {\n",
       "          const element = document.querySelector('#df-37e76ab5-bf3f-4201-9a08-7fc9c00eb25e');\n",
       "          const dataTable =\n",
       "            await google.colab.kernel.invokeFunction('convertToInteractive',\n",
       "                                                     [key], {});\n",
       "          if (!dataTable) return;\n",
       "\n",
       "          const docLinkHtml = 'Like what you see? Visit the ' +\n",
       "            '<a target=\"_blank\" href=https://colab.research.google.com/notebooks/data_table.ipynb>data table notebook</a>'\n",
       "            + ' to learn more about interactive tables.';\n",
       "          element.innerHTML = '';\n",
       "          dataTable['output_type'] = 'display_data';\n",
       "          await google.colab.output.renderOutput(dataTable, element);\n",
       "          const docLink = document.createElement('div');\n",
       "          docLink.innerHTML = docLinkHtml;\n",
       "          element.appendChild(docLink);\n",
       "        }\n",
       "      </script>\n",
       "    </div>\n",
       "  </div>\n",
       "  "
      ],
      "text/plain": [
       "     ID  Education Marital_Status   Income  Kidhome  Teenhome  Recency  \\\n",
       "0  5524          1         Single  58138.0        0         0       58   \n",
       "1  2174          1         Single  46344.0        1         1       38   \n",
       "2  4141          1       Together  71613.0        0         0       26   \n",
       "3  6182          1       Together  26646.0        1         0       26   \n",
       "4  5324          4        Married  58293.0        1         0       94   \n",
       "\n",
       "   MntWines  MntFruits  MntMeatProducts  ...  AcceptedCmp2  Complain  \\\n",
       "0       635         88              546  ...             0         0   \n",
       "1        11          1                6  ...             0         0   \n",
       "2       426         49              127  ...             0         0   \n",
       "3        11          4               20  ...             0         0   \n",
       "4       173         43              118  ...             0         0   \n",
       "\n",
       "   Response  Age  IfSingle  EnrollDays  Expenses  NumPurchases  \\\n",
       "0         1   57         1         971      1617            22   \n",
       "1         0   60         1         125        27             4   \n",
       "2         0   49         0         472       776            20   \n",
       "3         0   30         0          65        53             6   \n",
       "4         0   33         0         321       422            14   \n",
       "\n",
       "   NumAcceptedCmp  AcceptedAnyCmp  \n",
       "0               1             Yes  \n",
       "1               0              No  \n",
       "2               0              No  \n",
       "3               0              No  \n",
       "4               0              No  \n",
       "\n",
       "[5 rows x 32 columns]"
      ]
     },
     "execution_count": 55,
     "metadata": {},
     "output_type": "execute_result"
    }
   ],
   "source": [
    "df = pd.read_csv(\"cleaned_data.csv\")\n",
    "df.head(5)\n"
   ]
  },
  {
   "cell_type": "code",
   "execution_count": null,
   "id": "UXVtBycQzbyS",
   "metadata": {
    "id": "UXVtBycQzbyS"
   },
   "outputs": [],
   "source": []
  },
  {
   "cell_type": "code",
   "execution_count": 59,
   "id": "IwEIzI9uvSRM",
   "metadata": {
    "colab": {
     "base_uri": "https://localhost:8080/"
    },
    "id": "IwEIzI9uvSRM",
    "outputId": "099d627a-ec89-473e-cde6-4d0a3b9e0e01"
   },
   "outputs": [
    {
     "name": "stdout",
     "output_type": "stream",
     "text": [
      "2240 32\n"
     ]
    }
   ],
   "source": [
    "row, col = df.shape\n",
    "print(row, col)"
   ]
  },
  {
   "cell_type": "code",
   "execution_count": 82,
   "id": "fP8C3adEs9sx",
   "metadata": {
    "id": "fP8C3adEs9sx"
   },
   "outputs": [],
   "source": [
    "data = df.iloc[: , :col - 1]\n",
    "label = df.iloc[: , -8]\n",
    "del data['Response']\n",
    "del data['Marital_Status']\n"
   ]
  },
  {
   "cell_type": "code",
   "execution_count": 83,
   "id": "pjknciYR0MLK",
   "metadata": {
    "id": "pjknciYR0MLK"
   },
   "outputs": [],
   "source": [
    "xdev, xtest, ydev, ytest = train_test_split(data, label)\n"
   ]
  },
  {
   "cell_type": "code",
   "execution_count": 84,
   "id": "DA01_Yt3wwXy",
   "metadata": {
    "id": "DA01_Yt3wwXy"
   },
   "outputs": [],
   "source": [
    "# Standardize the datasets\n",
    "# Encode the target variable.\n",
    "\n",
    "# Split development set to train and validation sets (8:2).\n",
    "xtrain, xval, ytrain, yval = train_test_split(xdev, ydev, random_state=20, test_size=0.2)"
   ]
  },
  {
   "cell_type": "code",
   "execution_count": 85,
   "id": "jNv8io-6yXGp",
   "metadata": {
    "colab": {
     "base_uri": "https://localhost:8080/"
    },
    "id": "jNv8io-6yXGp",
    "outputId": "d90ee8b5-097b-4535-eedf-dcfd15f0364a"
   },
   "outputs": [
    {
     "data": {
      "text/plain": [
       "(1344, 29)"
      ]
     },
     "execution_count": 85,
     "metadata": {},
     "output_type": "execute_result"
    }
   ],
   "source": [
    "xtrain.shape"
   ]
  },
  {
   "cell_type": "code",
   "execution_count": 86,
   "id": "4dluHdyK1GvC",
   "metadata": {
    "colab": {
     "base_uri": "https://localhost:8080/"
    },
    "id": "4dluHdyK1GvC",
    "outputId": "b6bcc9f8-a21a-48e4-91fc-23d535b9f721"
   },
   "outputs": [
    {
     "data": {
      "text/plain": [
       "(1344,)"
      ]
     },
     "execution_count": 86,
     "metadata": {},
     "output_type": "execute_result"
    }
   ],
   "source": [
    "ytrain.shape"
   ]
  },
  {
   "cell_type": "code",
   "execution_count": 133,
   "id": "qMAuid1Q7D5q",
   "metadata": {
    "colab": {
     "base_uri": "https://localhost:8080/"
    },
    "id": "qMAuid1Q7D5q",
    "outputId": "ae802fb7-2f49-4c6a-da0f-c807f7e4e539"
   },
   "outputs": [
    {
     "name": "stdout",
     "output_type": "stream",
     "text": [
      "Model: \"sequential_21\"\n",
      "_________________________________________________________________\n",
      " Layer (type)                Output Shape              Param #   \n",
      "=================================================================\n",
      " flatten_9 (Flatten)         (None, 29)                0         \n",
      "                                                                 \n",
      " dense_56 (Dense)            (None, 16)                480       \n",
      "                                                                 \n",
      " dense_57 (Dense)            (None, 16)                272       \n",
      "                                                                 \n",
      " dense_58 (Dense)            (None, 1)                 17        \n",
      "                                                                 \n",
      "=================================================================\n",
      "Total params: 769\n",
      "Trainable params: 769\n",
      "Non-trainable params: 0\n",
      "_________________________________________________________________\n"
     ]
    }
   ],
   "source": [
    "model = keras.Sequential([\n",
    "    keras.layers.Flatten(input_shape=(29,)),\n",
    "   \n",
    "    keras.layers.Dense(16, activation=tf.nn.relu),\n",
    " \n",
    "\t  keras.layers.Dense(16, activation=tf.nn.relu),\n",
    "   \n",
    "    keras.layers.Dense(1, activation=tf.nn.sigmoid),\n",
    "])\n",
    "\n",
    "model.summary()"
   ]
  },
  {
   "cell_type": "code",
   "execution_count": 134,
   "id": "iHOJKuys8RpC",
   "metadata": {
    "colab": {
     "base_uri": "https://localhost:8080/"
    },
    "id": "iHOJKuys8RpC",
    "outputId": "20f91385-0edf-4b86-d5b9-6f6dbb67ac0a"
   },
   "outputs": [
    {
     "name": "stdout",
     "output_type": "stream",
     "text": [
      "Epoch 1/50\n",
      "1344/1344 [==============================] - 3s 2ms/step - loss: 111.4839 - accuracy: 0.7374 - val_loss: 68.3547 - val_accuracy: 0.8244\n",
      "Epoch 2/50\n",
      "1344/1344 [==============================] - 2s 2ms/step - loss: 80.5246 - accuracy: 0.7723 - val_loss: 16.0142 - val_accuracy: 0.7738\n",
      "Epoch 3/50\n",
      "1344/1344 [==============================] - 3s 2ms/step - loss: 69.4300 - accuracy: 0.7879 - val_loss: 125.6422 - val_accuracy: 0.8304\n",
      "Epoch 4/50\n",
      "1344/1344 [==============================] - 2s 2ms/step - loss: 66.4932 - accuracy: 0.7686 - val_loss: 16.2684 - val_accuracy: 0.8095\n",
      "Epoch 5/50\n",
      "1344/1344 [==============================] - 3s 2ms/step - loss: 45.7446 - accuracy: 0.7932 - val_loss: 23.7714 - val_accuracy: 0.6369\n",
      "Epoch 6/50\n",
      "1344/1344 [==============================] - 3s 3ms/step - loss: 35.4514 - accuracy: 0.7879 - val_loss: 32.7136 - val_accuracy: 0.8304\n",
      "Epoch 7/50\n",
      "1344/1344 [==============================] - 2s 2ms/step - loss: 38.7605 - accuracy: 0.7783 - val_loss: 62.2023 - val_accuracy: 0.8304\n",
      "Epoch 8/50\n",
      "1344/1344 [==============================] - 3s 2ms/step - loss: 27.7579 - accuracy: 0.7812 - val_loss: 8.8220 - val_accuracy: 0.7440\n",
      "Epoch 9/50\n",
      "1344/1344 [==============================] - 3s 2ms/step - loss: 26.2726 - accuracy: 0.7872 - val_loss: 16.7867 - val_accuracy: 0.6696\n",
      "Epoch 10/50\n",
      "1344/1344 [==============================] - 2s 2ms/step - loss: 19.8913 - accuracy: 0.7902 - val_loss: 48.3473 - val_accuracy: 0.8304\n",
      "Epoch 11/50\n",
      "1344/1344 [==============================] - 2s 2ms/step - loss: 15.3988 - accuracy: 0.7783 - val_loss: 6.4664 - val_accuracy: 0.8333\n",
      "Epoch 12/50\n",
      "1344/1344 [==============================] - 3s 2ms/step - loss: 14.4862 - accuracy: 0.7909 - val_loss: 6.4728 - val_accuracy: 0.7381\n",
      "Epoch 13/50\n",
      "1344/1344 [==============================] - 3s 2ms/step - loss: 15.6485 - accuracy: 0.7999 - val_loss: 3.9421 - val_accuracy: 0.8214\n",
      "Epoch 14/50\n",
      "1344/1344 [==============================] - 2s 2ms/step - loss: 10.4123 - accuracy: 0.7932 - val_loss: 6.4440 - val_accuracy: 0.6786\n",
      "Epoch 15/50\n",
      "1344/1344 [==============================] - 2s 2ms/step - loss: 7.6753 - accuracy: 0.7857 - val_loss: 4.1970 - val_accuracy: 0.8363\n",
      "Epoch 16/50\n",
      "1344/1344 [==============================] - 3s 2ms/step - loss: 8.5645 - accuracy: 0.7835 - val_loss: 6.9948 - val_accuracy: 0.8304\n",
      "Epoch 17/50\n",
      "1344/1344 [==============================] - 2s 2ms/step - loss: 6.2244 - accuracy: 0.7790 - val_loss: 3.5307 - val_accuracy: 0.8363\n",
      "Epoch 18/50\n",
      "1344/1344 [==============================] - 2s 2ms/step - loss: 5.2577 - accuracy: 0.7924 - val_loss: 1.6170 - val_accuracy: 0.8363\n",
      "Epoch 19/50\n",
      "1344/1344 [==============================] - 3s 2ms/step - loss: 3.9438 - accuracy: 0.8125 - val_loss: 1.4231 - val_accuracy: 0.8006\n",
      "Epoch 20/50\n",
      "1344/1344 [==============================] - 2s 2ms/step - loss: 3.5275 - accuracy: 0.8006 - val_loss: 10.5600 - val_accuracy: 0.8304\n",
      "Epoch 21/50\n",
      "1344/1344 [==============================] - 2s 2ms/step - loss: 4.7651 - accuracy: 0.7917 - val_loss: 5.6159 - val_accuracy: 0.8304\n",
      "Epoch 22/50\n",
      "1344/1344 [==============================] - 2s 2ms/step - loss: 2.8261 - accuracy: 0.7917 - val_loss: 4.3545 - val_accuracy: 0.8304\n",
      "Epoch 23/50\n",
      "1344/1344 [==============================] - 2s 2ms/step - loss: 2.6372 - accuracy: 0.8051 - val_loss: 1.2985 - val_accuracy: 0.8393\n",
      "Epoch 24/50\n",
      "1344/1344 [==============================] - 3s 2ms/step - loss: 2.1226 - accuracy: 0.8058 - val_loss: 5.2493 - val_accuracy: 0.8304\n",
      "Epoch 25/50\n",
      "1344/1344 [==============================] - 2s 2ms/step - loss: 1.4870 - accuracy: 0.7946 - val_loss: 0.4918 - val_accuracy: 0.8333\n",
      "Epoch 26/50\n",
      "1344/1344 [==============================] - 2s 2ms/step - loss: 1.3003 - accuracy: 0.7902 - val_loss: 1.3949 - val_accuracy: 0.5060\n",
      "Epoch 27/50\n",
      "1344/1344 [==============================] - 3s 2ms/step - loss: 0.7651 - accuracy: 0.8162 - val_loss: 0.6097 - val_accuracy: 0.7500\n",
      "Epoch 28/50\n",
      "1344/1344 [==============================] - 3s 2ms/step - loss: 0.5915 - accuracy: 0.8192 - val_loss: 0.4024 - val_accuracy: 0.8274\n",
      "Epoch 29/50\n",
      "1344/1344 [==============================] - 3s 2ms/step - loss: 0.4779 - accuracy: 0.8378 - val_loss: 0.4127 - val_accuracy: 0.8304\n",
      "Epoch 30/50\n",
      "1344/1344 [==============================] - 3s 2ms/step - loss: 0.4844 - accuracy: 0.8497 - val_loss: 0.5650 - val_accuracy: 0.8304\n",
      "Epoch 31/50\n",
      "1344/1344 [==============================] - 2s 2ms/step - loss: 0.4803 - accuracy: 0.8490 - val_loss: 0.4730 - val_accuracy: 0.8304\n",
      "Epoch 32/50\n",
      "1344/1344 [==============================] - 3s 2ms/step - loss: 0.4589 - accuracy: 0.8527 - val_loss: 0.4831 - val_accuracy: 0.8244\n",
      "Epoch 33/50\n",
      "1344/1344 [==============================] - 3s 2ms/step - loss: 0.5083 - accuracy: 0.8534 - val_loss: 0.5549 - val_accuracy: 0.8304\n",
      "Epoch 34/50\n",
      "1344/1344 [==============================] - 3s 2ms/step - loss: 0.4278 - accuracy: 0.8549 - val_loss: 0.4842 - val_accuracy: 0.8304\n",
      "Epoch 35/50\n",
      "1344/1344 [==============================] - 3s 2ms/step - loss: 0.4282 - accuracy: 0.8549 - val_loss: 0.4575 - val_accuracy: 0.8304\n",
      "Epoch 36/50\n",
      "1344/1344 [==============================] - 3s 2ms/step - loss: 0.4188 - accuracy: 0.8549 - val_loss: 0.4541 - val_accuracy: 0.8304\n",
      "Epoch 37/50\n",
      "1344/1344 [==============================] - 3s 2ms/step - loss: 0.4152 - accuracy: 0.8549 - val_loss: 0.4534 - val_accuracy: 0.8304\n",
      "Epoch 38/50\n",
      "1344/1344 [==============================] - 3s 2ms/step - loss: 0.4308 - accuracy: 0.8549 - val_loss: 0.4547 - val_accuracy: 0.8304\n",
      "Epoch 39/50\n",
      "1344/1344 [==============================] - 3s 2ms/step - loss: 0.4134 - accuracy: 0.8549 - val_loss: 0.4554 - val_accuracy: 0.8304\n",
      "Epoch 40/50\n",
      "1344/1344 [==============================] - 3s 2ms/step - loss: 0.4171 - accuracy: 0.8542 - val_loss: 0.4548 - val_accuracy: 0.8304\n",
      "Epoch 41/50\n",
      "1344/1344 [==============================] - 3s 2ms/step - loss: 0.4129 - accuracy: 0.8549 - val_loss: 0.4549 - val_accuracy: 0.8304\n",
      "Epoch 42/50\n",
      "1344/1344 [==============================] - 3s 2ms/step - loss: 0.4161 - accuracy: 0.8542 - val_loss: 0.4576 - val_accuracy: 0.8304\n",
      "Epoch 43/50\n",
      "1344/1344 [==============================] - 3s 2ms/step - loss: 0.4154 - accuracy: 0.8542 - val_loss: 0.4554 - val_accuracy: 0.8304\n",
      "Epoch 44/50\n",
      "1344/1344 [==============================] - 3s 2ms/step - loss: 0.5086 - accuracy: 0.8549 - val_loss: 0.4553 - val_accuracy: 0.8304\n",
      "Epoch 45/50\n",
      "1344/1344 [==============================] - 3s 2ms/step - loss: 0.4132 - accuracy: 0.8549 - val_loss: 0.4554 - val_accuracy: 0.8304\n",
      "Epoch 46/50\n",
      "1344/1344 [==============================] - 4s 3ms/step - loss: 0.4126 - accuracy: 0.8549 - val_loss: 0.4553 - val_accuracy: 0.8304\n",
      "Epoch 47/50\n",
      "1344/1344 [==============================] - 3s 2ms/step - loss: 0.4339 - accuracy: 0.8549 - val_loss: 0.5464 - val_accuracy: 0.8304\n",
      "Epoch 48/50\n",
      "1344/1344 [==============================] - 3s 2ms/step - loss: 0.4230 - accuracy: 0.8549 - val_loss: 0.4567 - val_accuracy: 0.8304\n",
      "Epoch 49/50\n",
      "1344/1344 [==============================] - 3s 2ms/step - loss: 0.4139 - accuracy: 0.8549 - val_loss: 0.4568 - val_accuracy: 0.8304\n",
      "Epoch 50/50\n",
      "1344/1344 [==============================] - 3s 2ms/step - loss: 0.4139 - accuracy: 0.8549 - val_loss: 0.4569 - val_accuracy: 0.8304\n"
     ]
    }
   ],
   "source": [
    "model.compile(optimizer='adam',\n",
    "              loss='binary_crossentropy',\n",
    "              metrics=['accuracy'])\n",
    "\n",
    "history = model.fit(xdev,ydev, batch_size=1,epochs=50,verbose=1,validation_split=0.2)"
   ]
  },
  {
   "cell_type": "code",
   "execution_count": 135,
   "id": "Wa7Dl7eG79K7",
   "metadata": {
    "colab": {
     "base_uri": "https://localhost:8080/",
     "height": 558
    },
    "id": "Wa7Dl7eG79K7",
    "outputId": "6f3b5c4c-172d-4b45-861d-c2a81a2116bc"
   },
   "outputs": [
    {
     "data": {
      "text/plain": [
       "Text(0.5, 0, 'epochs')"
      ]
     },
     "execution_count": 135,
     "metadata": {},
     "output_type": "execute_result"
    },
    {
     "data": {
      "image/png": "[encoded data removed]",
      "text/plain": [
       "<Figure size 432x288 with 1 Axes>"
      ]
     },
     "metadata": {
      "needs_background": "light"
     },
     "output_type": "display_data"
    },
    {
     "data": {
      "image/png": "[encoded data removed]",
      "text/plain": [
       "<Figure size 432x288 with 1 Axes>"
      ]
     },
     "metadata": {
      "needs_background": "light"
     },
     "output_type": "display_data"
    }
   ],
   "source": [
    "hist = pd.DataFrame(history.history)\n",
    "fig, ax = plt.subplots(1) \n",
    "fig2, ax2 = plt.subplots(1) \n",
    "\n",
    "line1, = ax.plot(hist.index,hist['loss'], label='train loss')\n",
    "line2, = ax.plot(hist.index,hist['val_loss'], label='validation loss')\n",
    "line3, = ax2.plot(hist.index,hist['accuracy'], label='train accuracy')\n",
    "line4, = ax2.plot(hist.index,hist['val_accuracy'], label='validation accuracy')\n",
    "\n",
    "ax.legend(handles=[line1, line2])\n",
    "ax.set_ylabel(\"loss\")\n",
    "ax.set_xlabel(\"epochs\")\n",
    "ax2.legend(handles=[line3, line4])\n",
    "ax2.set_ylabel(\"accurancy\")\n",
    "ax2.set_xlabel(\"epochs\")"
   ]
  },
  {
   "cell_type": "code",
   "execution_count": 136,
   "id": "ArEdsHDX-G5L",
   "metadata": {
    "colab": {
     "base_uri": "https://localhost:8080/",
     "height": 1000
    },
    "id": "ArEdsHDX-G5L",
    "outputId": "c50cd32e-116c-4b75-8741-44ed5f1fff6b"
   },
   "outputs": [
    {
     "name": "stdout",
     "output_type": "stream",
     "text": [
      "Model: \"sequential_22\"\n",
      "_________________________________________________________________\n",
      " Layer (type)                Output Shape              Param #   \n",
      "=================================================================\n",
      " flatten_10 (Flatten)        (None, 29)                0         \n",
      "                                                                 \n",
      " dense_59 (Dense)            (None, 16)                480       \n",
      "                                                                 \n",
      " dropout_24 (Dropout)        (None, 16)                0         \n",
      "                                                                 \n",
      " dense_60 (Dense)            (None, 16)                272       \n",
      "                                                                 \n",
      " dropout_25 (Dropout)        (None, 16)                0         \n",
      "                                                                 \n",
      " dense_61 (Dense)            (None, 1)                 17        \n",
      "                                                                 \n",
      "=================================================================\n",
      "Total params: 769\n",
      "Trainable params: 769\n",
      "Non-trainable params: 0\n",
      "_________________________________________________________________\n",
      "Epoch 1/50\n",
      "1344/1344 [==============================] - 3s 2ms/step - loss: 1168.2072 - accuracy: 0.7240 - val_loss: 116.5781 - val_accuracy: 0.8304\n",
      "Epoch 2/50\n",
      "1344/1344 [==============================] - 3s 2ms/step - loss: 75.2527 - accuracy: 0.7716 - val_loss: 8.7220 - val_accuracy: 0.8304\n",
      "Epoch 3/50\n",
      "1344/1344 [==============================] - 2s 2ms/step - loss: 2.8547 - accuracy: 0.8199 - val_loss: 0.7121 - val_accuracy: 0.8304\n",
      "Epoch 4/50\n",
      "1344/1344 [==============================] - 3s 2ms/step - loss: 0.8692 - accuracy: 0.8504 - val_loss: 0.4865 - val_accuracy: 0.8304\n",
      "Epoch 5/50\n",
      "1344/1344 [==============================] - 2s 2ms/step - loss: 0.5377 - accuracy: 0.8512 - val_loss: 0.4621 - val_accuracy: 0.8304\n",
      "Epoch 6/50\n",
      "1344/1344 [==============================] - 2s 2ms/step - loss: 0.4818 - accuracy: 0.8527 - val_loss: 0.4532 - val_accuracy: 0.8304\n",
      "Epoch 7/50\n",
      "1344/1344 [==============================] - 3s 2ms/step - loss: 0.4166 - accuracy: 0.8542 - val_loss: 0.4535 - val_accuracy: 0.8304\n",
      "Epoch 8/50\n",
      "1344/1344 [==============================] - 3s 2ms/step - loss: 0.4855 - accuracy: 0.8542 - val_loss: 0.4542 - val_accuracy: 0.8304\n",
      "Epoch 9/50\n",
      "1344/1344 [==============================] - 2s 2ms/step - loss: 0.4287 - accuracy: 0.8542 - val_loss: 0.4546 - val_accuracy: 0.8304\n",
      "Epoch 10/50\n",
      "1344/1344 [==============================] - 2s 2ms/step - loss: 0.5876 - accuracy: 0.8542 - val_loss: 0.4553 - val_accuracy: 0.8304\n",
      "Epoch 11/50\n",
      "1344/1344 [==============================] - 3s 2ms/step - loss: 0.4135 - accuracy: 0.8549 - val_loss: 0.4553 - val_accuracy: 0.8304\n",
      "Epoch 12/50\n",
      "1344/1344 [==============================] - 3s 2ms/step - loss: 0.4170 - accuracy: 0.8549 - val_loss: 0.4555 - val_accuracy: 0.8304\n",
      "Epoch 13/50\n",
      "1344/1344 [==============================] - 2s 2ms/step - loss: 0.4164 - accuracy: 0.8549 - val_loss: 0.4556 - val_accuracy: 0.8304\n",
      "Epoch 14/50\n",
      "1344/1344 [==============================] - 3s 2ms/step - loss: 0.4660 - accuracy: 0.8542 - val_loss: 0.5178 - val_accuracy: 0.8304\n",
      "Epoch 15/50\n",
      "1344/1344 [==============================] - 3s 2ms/step - loss: 0.4146 - accuracy: 0.8549 - val_loss: 0.5513 - val_accuracy: 0.8304\n",
      "Epoch 16/50\n",
      "1344/1344 [==============================] - 4s 3ms/step - loss: 0.4382 - accuracy: 0.8542 - val_loss: 0.4551 - val_accuracy: 0.8304\n",
      "Epoch 17/50\n",
      "1344/1344 [==============================] - 3s 2ms/step - loss: 0.4436 - accuracy: 0.8542 - val_loss: 0.4551 - val_accuracy: 0.8304\n",
      "Epoch 18/50\n",
      "1344/1344 [==============================] - 3s 2ms/step - loss: 0.4132 - accuracy: 0.8549 - val_loss: 0.4554 - val_accuracy: 0.8304\n",
      "Epoch 19/50\n",
      "1344/1344 [==============================] - 3s 2ms/step - loss: 0.4145 - accuracy: 0.8549 - val_loss: 0.4556 - val_accuracy: 0.8304\n",
      "Epoch 20/50\n",
      "1344/1344 [==============================] - 3s 2ms/step - loss: 0.4145 - accuracy: 0.8549 - val_loss: 0.4554 - val_accuracy: 0.8304\n",
      "Epoch 21/50\n",
      "1344/1344 [==============================] - 6s 5ms/step - loss: 0.4142 - accuracy: 0.8549 - val_loss: 0.4554 - val_accuracy: 0.8304\n",
      "Epoch 22/50\n",
      "1344/1344 [==============================] - 3s 2ms/step - loss: 0.4143 - accuracy: 0.8549 - val_loss: 0.4555 - val_accuracy: 0.8304\n",
      "Epoch 23/50\n",
      "1344/1344 [==============================] - 4s 3ms/step - loss: 0.4142 - accuracy: 0.8549 - val_loss: 0.4555 - val_accuracy: 0.8304\n",
      "Epoch 24/50\n",
      "1344/1344 [==============================] - 4s 3ms/step - loss: 0.4135 - accuracy: 0.8549 - val_loss: 0.4556 - val_accuracy: 0.8304\n",
      "Epoch 25/50\n",
      "1344/1344 [==============================] - 3s 2ms/step - loss: 0.4137 - accuracy: 0.8549 - val_loss: 0.4554 - val_accuracy: 0.8304\n",
      "Epoch 26/50\n",
      "1344/1344 [==============================] - 3s 2ms/step - loss: 0.4137 - accuracy: 0.8549 - val_loss: 0.4554 - val_accuracy: 0.8304\n",
      "Epoch 27/50\n",
      "1344/1344 [==============================] - 3s 2ms/step - loss: 0.4137 - accuracy: 0.8549 - val_loss: 0.4558 - val_accuracy: 0.8304\n",
      "Epoch 28/50\n",
      "1344/1344 [==============================] - 3s 2ms/step - loss: 0.4136 - accuracy: 0.8549 - val_loss: 0.4557 - val_accuracy: 0.8304\n",
      "Epoch 29/50\n",
      "1344/1344 [==============================] - 3s 2ms/step - loss: 0.4131 - accuracy: 0.8549 - val_loss: 0.4562 - val_accuracy: 0.8304\n",
      "Epoch 30/50\n",
      "1344/1344 [==============================] - 3s 2ms/step - loss: 0.4137 - accuracy: 0.8549 - val_loss: 0.4556 - val_accuracy: 0.8304\n",
      "Epoch 31/50\n",
      "1344/1344 [==============================] - 3s 2ms/step - loss: 0.4131 - accuracy: 0.8549 - val_loss: 0.4556 - val_accuracy: 0.8304\n",
      "Epoch 32/50\n",
      "1344/1344 [==============================] - 3s 2ms/step - loss: 0.4404 - accuracy: 0.8542 - val_loss: 0.4559 - val_accuracy: 0.8304\n",
      "Epoch 33/50\n",
      "1344/1344 [==============================] - 3s 2ms/step - loss: 0.4136 - accuracy: 0.8549 - val_loss: 0.4559 - val_accuracy: 0.8304\n",
      "Epoch 34/50\n",
      "1344/1344 [==============================] - 2s 2ms/step - loss: 0.4134 - accuracy: 0.8549 - val_loss: 0.4560 - val_accuracy: 0.8304\n",
      "Epoch 35/50\n",
      "1344/1344 [==============================] - 2s 2ms/step - loss: 0.4135 - accuracy: 0.8549 - val_loss: 0.4558 - val_accuracy: 0.8304\n",
      "Epoch 36/50\n",
      "1344/1344 [==============================] - 2s 2ms/step - loss: 0.4133 - accuracy: 0.8549 - val_loss: 0.4557 - val_accuracy: 0.8304\n",
      "Epoch 37/50\n",
      "1344/1344 [==============================] - 3s 2ms/step - loss: 0.4142 - accuracy: 0.8549 - val_loss: 0.4559 - val_accuracy: 0.8304\n",
      "Epoch 38/50\n",
      "1344/1344 [==============================] - 3s 2ms/step - loss: 0.4134 - accuracy: 0.8549 - val_loss: 0.4557 - val_accuracy: 0.8304\n",
      "Epoch 39/50\n",
      "1344/1344 [==============================] - 3s 2ms/step - loss: 0.4194 - accuracy: 0.8549 - val_loss: 0.4555 - val_accuracy: 0.8304\n",
      "Epoch 40/50\n",
      "1344/1344 [==============================] - 3s 2ms/step - loss: 0.4139 - accuracy: 0.8549 - val_loss: 0.4556 - val_accuracy: 0.8304\n",
      "Epoch 41/50\n",
      "1344/1344 [==============================] - 3s 2ms/step - loss: 0.4139 - accuracy: 0.8549 - val_loss: 0.4556 - val_accuracy: 0.8304\n",
      "Epoch 42/50\n",
      "1344/1344 [==============================] - 3s 2ms/step - loss: 0.4134 - accuracy: 0.8549 - val_loss: 0.4557 - val_accuracy: 0.8304\n",
      "Epoch 43/50\n",
      "1344/1344 [==============================] - 2s 2ms/step - loss: 0.4130 - accuracy: 0.8549 - val_loss: 0.4557 - val_accuracy: 0.8304\n",
      "Epoch 44/50\n",
      "1344/1344 [==============================] - 3s 2ms/step - loss: 0.4133 - accuracy: 0.8549 - val_loss: 0.4556 - val_accuracy: 0.8304\n",
      "Epoch 45/50\n",
      "1344/1344 [==============================] - 3s 2ms/step - loss: 0.4234 - accuracy: 0.8542 - val_loss: 0.4556 - val_accuracy: 0.8304\n",
      "Epoch 46/50\n",
      "1344/1344 [==============================] - 3s 2ms/step - loss: 0.4139 - accuracy: 0.8549 - val_loss: 0.4555 - val_accuracy: 0.8304\n",
      "Epoch 47/50\n",
      "1344/1344 [==============================] - 3s 2ms/step - loss: 0.4139 - accuracy: 0.8549 - val_loss: 0.4556 - val_accuracy: 0.8304\n",
      "Epoch 48/50\n",
      "1344/1344 [==============================] - 2s 2ms/step - loss: 0.4135 - accuracy: 0.8549 - val_loss: 0.4557 - val_accuracy: 0.8304\n",
      "Epoch 49/50\n",
      "1344/1344 [==============================] - 2s 2ms/step - loss: 0.4134 - accuracy: 0.8549 - val_loss: 0.4557 - val_accuracy: 0.8304\n",
      "Epoch 50/50\n",
      "1344/1344 [==============================] - 3s 2ms/step - loss: 0.4136 - accuracy: 0.8549 - val_loss: 0.4556 - val_accuracy: 0.8304\n"
     ]
    },
    {
     "data": {
      "text/plain": [
       "Text(0, 0.5, 'accurancy')"
      ]
     },
     "execution_count": 136,
     "metadata": {},
     "output_type": "execute_result"
    },
    {
     "data": {
      "image/png": "[encoded data removed]",
      "text/plain": [
       "<Figure size 432x288 with 1 Axes>"
      ]
     },
     "metadata": {
      "needs_background": "light"
     },
     "output_type": "display_data"
    },
    {
     "data": {
      "image/png": "[encoded data removed]",
      "text/plain": [
       "<Figure size 432x288 with 1 Axes>"
      ]
     },
     "metadata": {
      "needs_background": "light"
     },
     "output_type": "display_data"
    }
   ],
   "source": [
    "model = keras.Sequential([\n",
    "    keras.layers.Flatten(input_shape=(29,)),\n",
    "  \n",
    "    keras.layers.Dense(16, activation=tf.nn.relu),\n",
    "    keras.layers.Dropout(0.5),\n",
    "\t  keras.layers.Dense(16, activation=tf.nn.relu),\n",
    "    keras.layers.Dropout(0.5),\n",
    "    keras.layers.Dense(1, activation=tf.nn.sigmoid),\n",
    "])\n",
    "\n",
    "model.summary()\n",
    "model.compile(optimizer='adam',\n",
    "              loss='binary_crossentropy',\n",
    "              metrics=['accuracy'])\n",
    "\n",
    "history = model.fit(xdev,ydev, batch_size=1,epochs=50,verbose=1,validation_split=0.2)\n",
    "hist = pd.DataFrame(history.history)\n",
    "fig, ax = plt.subplots(1) \n",
    "fig2, ax2 = plt.subplots(1) \n",
    "\n",
    "line1, = ax.plot(hist.index,hist['loss'], label='train loss')\n",
    "line2, = ax.plot(hist.index,hist['val_loss'], label='validation loss')\n",
    "line3, = ax2.plot(hist.index,hist['accuracy'], label='train accuracy')\n",
    "line4, = ax2.plot(hist.index,hist['val_accuracy'], label='validation accuracy')\n",
    "\n",
    "ax.legend(handles=[line1, line2])\n",
    "ax.set_ylabel(\"loss\")\n",
    "ax.set_xlabel(\"epochs\")\n",
    "ax2.legend(handles=[line3, line4])\n",
    "ax2.set_ylabel(\"accurancy\")"
   ]
  }
 ],
 "metadata": {
  "colab": {
   "name": "neuralNetwork.ipynb",
   "provenance": []
  },
  "kernelspec": {
   "display_name": "Python 3",
   "language": "python",
   "name": "python3"
  },
  "language_info": {
   "codemirror_mode": {
    "name": "ipython",
    "version": 3
   },
   "file_extension": ".py",
   "mimetype": "text/x-python",
   "name": "python",
   "nbconvert_exporter": "python",
   "pygments_lexer": "ipython3",
   "version": "3.8.8"
  }
 },
 "nbformat": 4,
 "nbformat_minor": 5
}
